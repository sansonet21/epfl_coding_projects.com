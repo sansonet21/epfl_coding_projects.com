{
 "cells": [
  {
   "cell_type": "markdown",
   "metadata": {},
   "source": [
    "# Python and Jupyter Notebooks: A brief introduction\n",
    "\n",
    "Pierre Collin-Dufresne and Philippe van der Beck\n",
    "\n",
    "*Note: We have constructed this jupyter notebook to serve as a template for solving the different problem sets. Each subquestion includes a cell with code, which you are supposed to complete. Note, that many of the cells will not run independently without having executed all of the code above.\n",
    "Feel free to reach out to philippe.vanderbeck@epfl.ch if you are stuck. Have fun! :-)*"
   ]
  },
  {
   "cell_type": "markdown",
   "metadata": {},
   "source": [
    "## Simple Examples"
   ]
  },
  {
   "cell_type": "code",
   "execution_count": 1,
   "metadata": {
    "scrolled": false
   },
   "outputs": [
    {
     "data": {
      "text/plain": [
       "2"
      ]
     },
     "execution_count": 1,
     "metadata": {},
     "output_type": "execute_result"
    }
   ],
   "source": [
    "1+1"
   ]
  },
  {
   "cell_type": "code",
   "execution_count": 2,
   "metadata": {
    "scrolled": true
   },
   "outputs": [
    {
     "name": "stdout",
     "output_type": "stream",
     "text": [
      "Hello World\n"
     ]
    }
   ],
   "source": [
    "print(\"Hello World\")"
   ]
  },
  {
   "cell_type": "markdown",
   "metadata": {},
   "source": [
    "## Install libraries and use libraries"
   ]
  },
  {
   "cell_type": "code",
   "execution_count": 3,
   "metadata": {},
   "outputs": [],
   "source": [
    "#conda install pandas=0.24.2\n",
    "import numpy as np\n",
    "import matplotlib.pyplot as plt\n",
    "import pandas as pd"
   ]
  },
  {
   "cell_type": "code",
   "execution_count": 4,
   "metadata": {
    "scrolled": true
   },
   "outputs": [
    {
     "data": {
      "text/plain": [
       "2.0"
      ]
     },
     "execution_count": 4,
     "metadata": {},
     "output_type": "execute_result"
    }
   ],
   "source": [
    "np.sqrt(4)"
   ]
  },
  {
   "cell_type": "code",
   "execution_count": 10,
   "metadata": {},
   "outputs": [],
   "source": [
    "manual_values = np.array([1,2,3,4,5,6,7,8,9,10])"
   ]
  },
  {
   "cell_type": "code",
   "execution_count": 11,
   "metadata": {},
   "outputs": [],
   "source": [
    "simulated_values = np.random.randn(10)"
   ]
  },
  {
   "cell_type": "code",
   "execution_count": 12,
   "metadata": {
    "scrolled": true
   },
   "outputs": [
    {
     "data": {
      "image/png": "[encoded data removed]",
      "text/plain": [
       "<Figure size 432x288 with 1 Axes>"
      ]
     },
     "metadata": {
      "needs_background": "light"
     },
     "output_type": "display_data"
    }
   ],
   "source": [
    "plt.plot(simulated_values)\n",
    "plt.plot(manual_values)\n",
    "plt.show()"
   ]
  },
  {
   "cell_type": "markdown",
   "metadata": {},
   "source": [
    "## Simulate a simple return series\n",
    "The return on a stock that does not pay any dividends is given by \n",
    "\n",
    "$r_t = \\frac{S_{t}-S_{t-1} + D_t}{S_t}$\n",
    "\n",
    "where $S_t$ is the share price at time $t$.\n",
    "Let us first assume that returns are normally distributed with mean $\\mu = 8\\%$ and standard deviation $\\sigma$ of 20\\%.\n",
    "\n",
    "$r_t \\sim \\mathcal{N}(\\mu,\\sigma)$"
   ]
  },
  {
   "cell_type": "code",
   "execution_count": 13,
   "metadata": {},
   "outputs": [],
   "source": [
    "mu = 0.08\n",
    "sigma = 0.2"
   ]
  },
  {
   "cell_type": "code",
   "execution_count": 8,
   "metadata": {
    "scrolled": true
   },
   "outputs": [
    {
     "name": "stdout",
     "output_type": "stream",
     "text": [
      "0.08548073058096296 0.1996636662248832\n"
     ]
    }
   ],
   "source": [
    "r_t = np.random.normal(mu,sigma,100)\n",
    "mu_hat = np.mean(r_t)\n",
    "sigma_hat = np.std(r_t)\n",
    "print(mu_hat,sigma_hat)"
   ]
  },
  {
   "cell_type": "markdown",
   "metadata": {},
   "source": [
    "# Download Data From WRDS"
   ]
  },
  {
   "cell_type": "markdown",
   "metadata": {},
   "source": [
    "You may first have to install the wrds connection"
   ]
  },
  {
   "cell_type": "code",
   "execution_count": 15,
   "metadata": {},
   "outputs": [
    {
     "name": "stdout",
     "output_type": "stream",
     "text": [
      "Requirement already satisfied: wrds in /Users/philippevanderbeck/opt/anaconda3/lib/python3.8/site-packages (3.1.5)\n",
      "Requirement already satisfied: sqlalchemy<2 in /Users/philippevanderbeck/opt/anaconda3/lib/python3.8/site-packages (from wrds) (1.3.18)\n",
      "Requirement already satisfied: numpy in /Users/philippevanderbeck/opt/anaconda3/lib/python3.8/site-packages (from wrds) (1.19.5)\n",
      "Requirement already satisfied: psycopg2-binary in /Users/philippevanderbeck/opt/anaconda3/lib/python3.8/site-packages (from wrds) (2.9.5)\n",
      "Requirement already satisfied: scipy in /Users/philippevanderbeck/opt/anaconda3/lib/python3.8/site-packages (from wrds) (1.5.0)\n",
      "Requirement already satisfied: pandas in /Users/philippevanderbeck/opt/anaconda3/lib/python3.8/site-packages (from wrds) (1.0.5)\n",
      "Requirement already satisfied: python-dateutil>=2.6.1 in /Users/philippevanderbeck/opt/anaconda3/lib/python3.8/site-packages (from pandas->wrds) (2.8.1)\n",
      "Requirement already satisfied: pytz>=2017.2 in /Users/philippevanderbeck/opt/anaconda3/lib/python3.8/site-packages (from pandas->wrds) (2020.1)\n",
      "Requirement already satisfied: six>=1.5 in /Users/philippevanderbeck/opt/anaconda3/lib/python3.8/site-packages (from python-dateutil>=2.6.1->pandas->wrds) (1.15.0)\n",
      "Note: you may need to restart the kernel to use updated packages.\n"
     ]
    }
   ],
   "source": [
    "pip install wrds\n",
    "pip install psycopg2"
   ]
  },
  {
   "cell_type": "code",
   "execution_count": 5,
   "metadata": {},
   "outputs": [
    {
     "name": "stdout",
     "output_type": "stream",
     "text": [
      "\u001b[33mWARNING: Retrying (Retry(total=4, connect=None, read=None, redirect=None, status=None)) after connection broken by 'NewConnectionError('<pip._vendor.urllib3.connection.VerifiedHTTPSConnection object at 0x7fdf103b55e0>: Failed to establish a new connection: [Errno 8] nodename nor servname provided, or not known')': /simple/psycopg2/\u001b[0m\n",
      "\u001b[33mWARNING: Retrying (Retry(total=3, connect=None, read=None, redirect=None, status=None)) after connection broken by 'NewConnectionError('<pip._vendor.urllib3.connection.VerifiedHTTPSConnection object at 0x7fdf103b55b0>: Failed to establish a new connection: [Errno 8] nodename nor servname provided, or not known')': /simple/psycopg2/\u001b[0m\n",
      "\u001b[33mWARNING: Retrying (Retry(total=2, connect=None, read=None, redirect=None, status=None)) after connection broken by 'NewConnectionError('<pip._vendor.urllib3.connection.VerifiedHTTPSConnection object at 0x7fdf103b5490>: Failed to establish a new connection: [Errno 8] nodename nor servname provided, or not known')': /simple/psycopg2/\u001b[0m\n",
      "\u001b[33mWARNING: Retrying (Retry(total=1, connect=None, read=None, redirect=None, status=None)) after connection broken by 'NewConnectionError('<pip._vendor.urllib3.connection.VerifiedHTTPSConnection object at 0x7fdf103b5370>: Failed to establish a new connection: [Errno 8] nodename nor servname provided, or not known')': /simple/psycopg2/\u001b[0m\n",
      "\u001b[33mWARNING: Retrying (Retry(total=0, connect=None, read=None, redirect=None, status=None)) after connection broken by 'NewConnectionError('<pip._vendor.urllib3.connection.VerifiedHTTPSConnection object at 0x7fdf103b50d0>: Failed to establish a new connection: [Errno 8] nodename nor servname provided, or not known')': /simple/psycopg2/\u001b[0m\n",
      "\u001b[31mERROR: Could not find a version that satisfies the requirement psycopg2 (from versions: none)\u001b[0m\n",
      "\u001b[31mERROR: No matching distribution found for psycopg2\u001b[0m\n",
      "Note: you may need to restart the kernel to use updated packages.\n"
     ]
    }
   ],
   "source": []
  },
  {
   "cell_type": "markdown",
   "metadata": {},
   "source": [
    "now we can import wrds and login"
   ]
  },
  {
   "cell_type": "code",
   "execution_count": 20,
   "metadata": {},
   "outputs": [
    {
     "name": "stdout",
     "output_type": "stream",
     "text": [
      "Loading library list...\n",
      "Done\n"
     ]
    }
   ],
   "source": [
    "import wrds\n",
    "db=wrds.Connection(wrds_username='pvdb95')"
   ]
  },
  {
   "cell_type": "code",
   "execution_count": null,
   "metadata": {},
   "outputs": [],
   "source": []
  },
  {
   "cell_type": "code",
   "execution_count": null,
   "metadata": {},
   "outputs": [],
   "source": []
  },
  {
   "cell_type": "code",
   "execution_count": null,
   "metadata": {},
   "outputs": [],
   "source": []
  },
  {
   "cell_type": "code",
   "execution_count": null,
   "metadata": {},
   "outputs": [],
   "source": []
  },
  {
   "cell_type": "code",
   "execution_count": null,
   "metadata": {},
   "outputs": [],
   "source": []
  },
  {
   "cell_type": "code",
   "execution_count": null,
   "metadata": {},
   "outputs": [],
   "source": []
  },
  {
   "cell_type": "markdown",
   "metadata": {},
   "source": [
    "now let's download some data! :-)\n",
    "What would you like to download?\n",
    "\n",
    "For example GameStop?"
   ]
  },
  {
   "cell_type": "code",
   "execution_count": 21,
   "metadata": {},
   "outputs": [],
   "source": [
    "GME = db.raw_sql(\"select  date, permco, cusip, prc, ret,vol \"\n",
    "           \"from crsp.dsf \"\n",
    "           \"where cusip = '36467W10'\"\n",
    "           \"and date>='2017-01-01'\"\n",
    "            \"and date<='2022-12-31'\")"
   ]
  },
  {
   "cell_type": "code",
   "execution_count": 22,
   "metadata": {},
   "outputs": [
    {
     "name": "stdout",
     "output_type": "stream",
     "text": [
      "         date   permco     cusip        prc       ret        vol\n",
      "0  2017-01-03  42775.0  36467W10  25.370001  0.004355  1941351.0\n",
      "1  2017-01-04  42775.0  36467W10  25.920000  0.021679  2244345.0\n",
      "2  2017-01-05  42775.0  36467W10  25.000000 -0.035494  3037717.0\n",
      "3  2017-01-06  42775.0  36467W10  24.520000 -0.019200  2334362.0\n",
      "4  2017-01-09  42775.0  36467W10  24.490000 -0.001224  1646678.0\n",
      "This is a Pandas DataFrame!\n"
     ]
    }
   ],
   "source": [
    "print(GME.head(5))\n",
    "print('This is a Pandas DataFrame!')"
   ]
  },
  {
   "cell_type": "code",
   "execution_count": 23,
   "metadata": {
    "scrolled": false
   },
   "outputs": [
    {
     "data": {
      "text/plain": [
       "[<matplotlib.lines.Line2D at 0x7fe2a1079580>]"
      ]
     },
     "execution_count": 23,
     "metadata": {},
     "output_type": "execute_result"
    },
    {
     "data": {
      "image/png": "[encoded data removed]",
      "text/plain": [
       "<Figure size 432x288 with 1 Axes>"
      ]
     },
     "metadata": {
      "needs_background": "light"
     },
     "output_type": "display_data"
    }
   ],
   "source": [
    "plt.plot(GME.prc)"
   ]
  },
  {
   "cell_type": "code",
   "execution_count": 24,
   "metadata": {},
   "outputs": [
    {
     "name": "stdout",
     "output_type": "stream",
     "text": [
      "0.003830937572590319 0.08368024021643966\n",
      "0.003830937572590319 0.08365252693857532\n"
     ]
    }
   ],
   "source": [
    "# Pandas Syntax\n",
    "print(GME.ret.mean(),GME.ret.std())\n",
    "\n",
    "# Numpy Syntax\n",
    "print(np.mean(GME.ret),np.std(GME.ret))"
   ]
  },
  {
   "cell_type": "code",
   "execution_count": 50,
   "metadata": {},
   "outputs": [
    {
     "data": {
      "text/html": [
       "<div>\n",
       "<style scoped>\n",
       "    .dataframe tbody tr th:only-of-type {\n",
       "        vertical-align: middle;\n",
       "    }\n",
       "\n",
       "    .dataframe tbody tr th {\n",
       "        vertical-align: top;\n",
       "    }\n",
       "\n",
       "    .dataframe thead th {\n",
       "        text-align: right;\n",
       "    }\n",
       "</style>\n",
       "<table border=\"1\" class=\"dataframe\">\n",
       "  <thead>\n",
       "    <tr style=\"text-align: right;\">\n",
       "      <th></th>\n",
       "      <th>date</th>\n",
       "      <th>permco</th>\n",
       "      <th>cusip</th>\n",
       "      <th>prc</th>\n",
       "      <th>ret</th>\n",
       "      <th>vol</th>\n",
       "    </tr>\n",
       "  </thead>\n",
       "  <tbody>\n",
       "    <tr>\n",
       "      <th>0</th>\n",
       "      <td>2017-01-03</td>\n",
       "      <td>42775.0</td>\n",
       "      <td>36467W10</td>\n",
       "      <td>25.370001</td>\n",
       "      <td>0.004355</td>\n",
       "      <td>1941351.0</td>\n",
       "    </tr>\n",
       "    <tr>\n",
       "      <th>1</th>\n",
       "      <td>2017-01-04</td>\n",
       "      <td>42775.0</td>\n",
       "      <td>36467W10</td>\n",
       "      <td>25.920000</td>\n",
       "      <td>0.021679</td>\n",
       "      <td>2244345.0</td>\n",
       "    </tr>\n",
       "    <tr>\n",
       "      <th>2</th>\n",
       "      <td>2017-01-05</td>\n",
       "      <td>42775.0</td>\n",
       "      <td>36467W10</td>\n",
       "      <td>25.000000</td>\n",
       "      <td>-0.035494</td>\n",
       "      <td>3037717.0</td>\n",
       "    </tr>\n",
       "    <tr>\n",
       "      <th>3</th>\n",
       "      <td>2017-01-06</td>\n",
       "      <td>42775.0</td>\n",
       "      <td>36467W10</td>\n",
       "      <td>24.520000</td>\n",
       "      <td>-0.019200</td>\n",
       "      <td>2334362.0</td>\n",
       "    </tr>\n",
       "    <tr>\n",
       "      <th>4</th>\n",
       "      <td>2017-01-09</td>\n",
       "      <td>42775.0</td>\n",
       "      <td>36467W10</td>\n",
       "      <td>24.490000</td>\n",
       "      <td>-0.001224</td>\n",
       "      <td>1646678.0</td>\n",
       "    </tr>\n",
       "    <tr>\n",
       "      <th>...</th>\n",
       "      <td>...</td>\n",
       "      <td>...</td>\n",
       "      <td>...</td>\n",
       "      <td>...</td>\n",
       "      <td>...</td>\n",
       "      <td>...</td>\n",
       "    </tr>\n",
       "    <tr>\n",
       "      <th>1505</th>\n",
       "      <td>2022-12-23</td>\n",
       "      <td>42775.0</td>\n",
       "      <td>36467W10</td>\n",
       "      <td>20.080000</td>\n",
       "      <td>0.013630</td>\n",
       "      <td>3174827.0</td>\n",
       "    </tr>\n",
       "    <tr>\n",
       "      <th>1506</th>\n",
       "      <td>2022-12-27</td>\n",
       "      <td>42775.0</td>\n",
       "      <td>36467W10</td>\n",
       "      <td>18.200001</td>\n",
       "      <td>-0.093625</td>\n",
       "      <td>4233045.0</td>\n",
       "    </tr>\n",
       "    <tr>\n",
       "      <th>1507</th>\n",
       "      <td>2022-12-28</td>\n",
       "      <td>42775.0</td>\n",
       "      <td>36467W10</td>\n",
       "      <td>17.920000</td>\n",
       "      <td>-0.015385</td>\n",
       "      <td>5671992.0</td>\n",
       "    </tr>\n",
       "    <tr>\n",
       "      <th>1508</th>\n",
       "      <td>2022-12-29</td>\n",
       "      <td>42775.0</td>\n",
       "      <td>36467W10</td>\n",
       "      <td>18.330000</td>\n",
       "      <td>0.022879</td>\n",
       "      <td>3442757.0</td>\n",
       "    </tr>\n",
       "    <tr>\n",
       "      <th>1509</th>\n",
       "      <td>2022-12-30</td>\n",
       "      <td>42775.0</td>\n",
       "      <td>36467W10</td>\n",
       "      <td>18.459999</td>\n",
       "      <td>0.007092</td>\n",
       "      <td>2669548.0</td>\n",
       "    </tr>\n",
       "  </tbody>\n",
       "</table>\n",
       "<p>1510 rows × 6 columns</p>\n",
       "</div>"
      ],
      "text/plain": [
       "            date   permco     cusip        prc       ret        vol\n",
       "0     2017-01-03  42775.0  36467W10  25.370001  0.004355  1941351.0\n",
       "1     2017-01-04  42775.0  36467W10  25.920000  0.021679  2244345.0\n",
       "2     2017-01-05  42775.0  36467W10  25.000000 -0.035494  3037717.0\n",
       "3     2017-01-06  42775.0  36467W10  24.520000 -0.019200  2334362.0\n",
       "4     2017-01-09  42775.0  36467W10  24.490000 -0.001224  1646678.0\n",
       "...          ...      ...       ...        ...       ...        ...\n",
       "1505  2022-12-23  42775.0  36467W10  20.080000  0.013630  3174827.0\n",
       "1506  2022-12-27  42775.0  36467W10  18.200001 -0.093625  4233045.0\n",
       "1507  2022-12-28  42775.0  36467W10  17.920000 -0.015385  5671992.0\n",
       "1508  2022-12-29  42775.0  36467W10  18.330000  0.022879  3442757.0\n",
       "1509  2022-12-30  42775.0  36467W10  18.459999  0.007092  2669548.0\n",
       "\n",
       "[1510 rows x 6 columns]"
      ]
     },
     "execution_count": 50,
     "metadata": {},
     "output_type": "execute_result"
    }
   ],
   "source": [
    "GME"
   ]
  },
  {
   "cell_type": "code",
   "execution_count": null,
   "metadata": {},
   "outputs": [],
   "source": []
  },
  {
   "cell_type": "code",
   "execution_count": null,
   "metadata": {},
   "outputs": [],
   "source": []
  },
  {
   "cell_type": "markdown",
   "metadata": {},
   "source": [
    "## Appendix: Simulate an SDE for the stock price and construct returns\n",
    "Let's express the above in continuous time. The SDE for the share price is given by the geometric brownian motion (we assume that the stock does not pay any dividend)\n",
    "\n",
    "$$\\frac{dS_t}{S_t} = \\mu dt + \\sigma dz_t$$"
   ]
  },
  {
   "cell_type": "code",
   "execution_count": 55,
   "metadata": {},
   "outputs": [],
   "source": [
    "# SDE Input Parameters\n",
    "S=[]\n",
    "n=365*10\n",
    "dt=1.0/365.0\n",
    "sdt=np.sqrt(dt)\n",
    "mu=0.08\n",
    "sig=0.2\n",
    "mudt=mu*dt\n",
    "sig2dt=sig*sig*dt\n",
    "dz = np.random.randn(n)*sdt\n",
    "\n",
    "# Solution to the SDE:\n",
    "S=100*np.exp(np.cumsum( mudt-0.5*sig2dt+sig*dz ))"
   ]
  },
  {
   "cell_type": "markdown",
   "metadata": {},
   "source": [
    "Plot the path of daily share prices"
   ]
  },
  {
   "cell_type": "code",
   "execution_count": 56,
   "metadata": {},
   "outputs": [
    {
     "data": {
      "image/png": "[encoded data removed]",
      "text/plain": [
       "<Figure size 432x288 with 1 Axes>"
      ]
     },
     "metadata": {
      "needs_background": "light"
     },
     "output_type": "display_data"
    }
   ],
   "source": [
    "# 1. Plot Stock Price\n",
    "plt.plot(S, label='stock price')\n",
    "plt.legend()\n",
    "plt.show()"
   ]
  },
  {
   "cell_type": "code",
   "execution_count": null,
   "metadata": {},
   "outputs": [],
   "source": []
  }
 ],
 "metadata": {
  "kernelspec": {
   "display_name": "Python 3",
   "language": "python",
   "name": "python3"
  },
  "language_info": {
   "codemirror_mode": {
    "name": "ipython",
    "version": 3
   },
   "file_extension": ".py",
   "mimetype": "text/x-python",
   "name": "python",
   "nbconvert_exporter": "python",
   "pygments_lexer": "ipython3",
   "version": "3.9.13"
  },
  "vscode": {
   "interpreter": {
    "hash": "23b4a3e8622309bcc6db3d5cc6eb73d60ab98d9ec23bad6a26b709981ccb403a"
   }
  }
 },
 "nbformat": 4,
 "nbformat_minor": 2
}
